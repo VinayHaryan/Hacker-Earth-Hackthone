{
 "cells": [
  {
   "cell_type": "markdown",
   "metadata": {},
   "source": [
    "## Predict the churn risk rate\n",
    "\n",
    "\n",
    "* Churn rate is a marketing metric that describes the number of customers who leave a business over a specific time period. . Every user is assigned a prediction value that estimates their state of churn at any given time. This value is based on:\n",
    "\n",
    "* User demographic information\n",
    "* Browsing behavior\n",
    "* Historical purchase data among other information\n",
    "\n",
    "* It factors in our unique and proprietary predictions of how long a user will remain a customer. This score is updated every day for all users who have a minimum of one conversion. The values assigned are between 1 and 5.\n",
    "\n",
    "* Your task is to predict the churn score for a website based on the features provided in the dataset.\n",
    "\n",
    "* Data description\n",
    "* The dataset folder contains the following files:\n",
    "\n",
    "* train.csv: 36992 x 25\n",
    "* test.csv: 19919 x 24\n",
    "* sample_submission.csv: 5 x 2\n",
    "\n",
    "* The columns provided in the dataset are as follows:\n",
    "\n",
    "\n"
   ]
  },
  {
   "cell_type": "markdown",
   "metadata": {},
   "source": [
    "* customer_id - Represents the unique identification number of a customer\n",
    "\n",
    "* Name - Represents the name of a customer\n",
    "\n",
    "* age - Represents the age of a customer\n",
    "\n",
    "* security_no - Represents a unique security number that is used to identify a person\n",
    "\n",
    "* region_category - Represents the region that a customer belongs to \n",
    "\n",
    "* membership_category - Represents the category of the membership that a customer is using\n",
    "\n",
    "* joining_date - Represents the date when a customer became a member \n",
    "\n",
    "* joined_through_referral - Represents whether a customer joined using any referral code or ID\n",
    "\n",
    "* referral_id - Represents a referral ID\n",
    "\n",
    "* preferred_offer_types - Represents the type of offer that a customer prefers\n",
    "\n",
    "* medium_of_operation - Represents the medium of operation that a customer uses for transactions\n",
    "\n",
    "* internet_option\t- Represents the type of internet service a customer uses\n",
    "\n",
    "* last_visit_time - Represents the last time a customer visited the website\n",
    "\n",
    "* days_since_last_login\t - Represents the no. of days since a customer last logged into the website\n",
    "\n",
    "* avg_time_spent - Represents the average time spent by a customer on the website\n",
    "\n",
    "* avg_transaction_value\t- Represents the average transaction value of a customer\n",
    "\n",
    "* avg_frequency_login_days - Represents the no. of times a customer has logged in to the website\n",
    "\n",
    "\n",
    "* points_in_wallet\t- Represents the points awarded to a customer on each transaction \n",
    "\n",
    "* used_special_discount\t - Represents whether a customer uses special discounts offered\n",
    "\n",
    "* offer_application_preference - Represents whether a customer prefers offers \n",
    "\n",
    "* past_complaint - Represents whether a customer has raised any complaints \n",
    "\n",
    "* complaint_status\t- Represents whether the complaints raised by a customer was resolved \n",
    "\n",
    "* feedback - Represents the feedback provided by a customer\n",
    "\n",
    "* churn_risk_score - Represents the churn risk score that ranges from 1 to 5\n",
    "\n",
    "* Evaluation metric - score = 100 x metrics.f1_score(actual, predicted, average=\"macro\")\n",
    "\n",
    "\n",
    "\n"
   ]
  },
  {
   "cell_type": "markdown",
   "metadata": {},
   "source": [
    "### Result submission guidelines\n",
    "* The index is customer_id and the target is the churn_risk_score column. \n",
    "* The submission file must be submitted in .csv format only.\n",
    "* The size of this submission file must be 19919 x 2.\n"
   ]
  },
  {
   "cell_type": "markdown",
   "metadata": {},
   "source": [
    "### Note: Ensure that your submission file contains the following:\n",
    "\n",
    "* Correct index values as per the test file\n",
    "* Correct names of columns as provided in the sample_submission.csv file\n"
   ]
  },
  {
   "cell_type": "code",
   "execution_count": 1,
   "metadata": {},
   "outputs": [],
   "source": [
    "import numpy as np\n",
    "import pandas as pd\n",
    "\n"
   ]
  },
  {
   "cell_type": "code",
   "execution_count": 2,
   "metadata": {},
   "outputs": [],
   "source": [
    "train = pd.read_csv(\"C:/Users/user/Downloads/HACKATHON/HackerEarth/98efc33085a711eb/dataset/train.csv\")\n",
    "test = pd.read_csv(\"C:/Users/user/Downloads/HACKATHON/HackerEarth/98efc33085a711eb/dataset/test.csv\")\n",
    "submission = pd.read_csv(\"C:/Users/user/Downloads/HACKATHON/HackerEarth/98efc33085a711eb/dataset/sample_submission.csv\")"
   ]
  },
  {
   "cell_type": "code",
   "execution_count": 3,
   "metadata": {},
   "outputs": [
    {
     "data": {
      "text/html": [
       "<div>\n",
       "<style scoped>\n",
       "    .dataframe tbody tr th:only-of-type {\n",
       "        vertical-align: middle;\n",
       "    }\n",
       "\n",
       "    .dataframe tbody tr th {\n",
       "        vertical-align: top;\n",
       "    }\n",
       "\n",
       "    .dataframe thead th {\n",
       "        text-align: right;\n",
       "    }\n",
       "</style>\n",
       "<table border=\"1\" class=\"dataframe\">\n",
       "  <thead>\n",
       "    <tr style=\"text-align: right;\">\n",
       "      <th></th>\n",
       "      <th>customer_id</th>\n",
       "      <th>churn_risk_score</th>\n",
       "    </tr>\n",
       "  </thead>\n",
       "  <tbody>\n",
       "    <tr>\n",
       "      <td>0</td>\n",
       "      <td>fffe4300490044003600300030003800</td>\n",
       "      <td>2</td>\n",
       "    </tr>\n",
       "    <tr>\n",
       "      <td>1</td>\n",
       "      <td>fffe43004900440032003100300035003700</td>\n",
       "      <td>1</td>\n",
       "    </tr>\n",
       "    <tr>\n",
       "      <td>2</td>\n",
       "      <td>fffe4300490044003100390032003600</td>\n",
       "      <td>5</td>\n",
       "    </tr>\n",
       "    <tr>\n",
       "      <td>3</td>\n",
       "      <td>fffe43004900440036003000330031003600</td>\n",
       "      <td>5</td>\n",
       "    </tr>\n",
       "    <tr>\n",
       "      <td>4</td>\n",
       "      <td>fffe43004900440031003900350030003600</td>\n",
       "      <td>5</td>\n",
       "    </tr>\n",
       "  </tbody>\n",
       "</table>\n",
       "</div>"
      ],
      "text/plain": [
       "                            customer_id  churn_risk_score\n",
       "0      fffe4300490044003600300030003800                 2\n",
       "1  fffe43004900440032003100300035003700                 1\n",
       "2      fffe4300490044003100390032003600                 5\n",
       "3  fffe43004900440036003000330031003600                 5\n",
       "4  fffe43004900440031003900350030003600                 5"
      ]
     },
     "execution_count": 3,
     "metadata": {},
     "output_type": "execute_result"
    }
   ],
   "source": [
    "submission"
   ]
  },
  {
   "cell_type": "code",
   "execution_count": 4,
   "metadata": {},
   "outputs": [
    {
     "data": {
      "text/html": [
       "<div>\n",
       "<style scoped>\n",
       "    .dataframe tbody tr th:only-of-type {\n",
       "        vertical-align: middle;\n",
       "    }\n",
       "\n",
       "    .dataframe tbody tr th {\n",
       "        vertical-align: top;\n",
       "    }\n",
       "\n",
       "    .dataframe thead th {\n",
       "        text-align: right;\n",
       "    }\n",
       "</style>\n",
       "<table border=\"1\" class=\"dataframe\">\n",
       "  <thead>\n",
       "    <tr style=\"text-align: right;\">\n",
       "      <th></th>\n",
       "      <th>customer_id</th>\n",
       "      <th>Name</th>\n",
       "      <th>age</th>\n",
       "      <th>gender</th>\n",
       "      <th>security_no</th>\n",
       "      <th>region_category</th>\n",
       "      <th>membership_category</th>\n",
       "      <th>joining_date</th>\n",
       "      <th>joined_through_referral</th>\n",
       "      <th>referral_id</th>\n",
       "      <th>...</th>\n",
       "      <th>avg_time_spent</th>\n",
       "      <th>avg_transaction_value</th>\n",
       "      <th>avg_frequency_login_days</th>\n",
       "      <th>points_in_wallet</th>\n",
       "      <th>used_special_discount</th>\n",
       "      <th>offer_application_preference</th>\n",
       "      <th>past_complaint</th>\n",
       "      <th>complaint_status</th>\n",
       "      <th>feedback</th>\n",
       "      <th>churn_risk_score</th>\n",
       "    </tr>\n",
       "  </thead>\n",
       "  <tbody>\n",
       "    <tr>\n",
       "      <td>0</td>\n",
       "      <td>fffe4300490044003600300030003800</td>\n",
       "      <td>Pattie Morrisey</td>\n",
       "      <td>18</td>\n",
       "      <td>F</td>\n",
       "      <td>XW0DQ7H</td>\n",
       "      <td>Village</td>\n",
       "      <td>Platinum Membership</td>\n",
       "      <td>2017-08-17</td>\n",
       "      <td>No</td>\n",
       "      <td>xxxxxxxx</td>\n",
       "      <td>...</td>\n",
       "      <td>300.63</td>\n",
       "      <td>53005.25</td>\n",
       "      <td>17.0</td>\n",
       "      <td>781.75</td>\n",
       "      <td>Yes</td>\n",
       "      <td>Yes</td>\n",
       "      <td>No</td>\n",
       "      <td>Not Applicable</td>\n",
       "      <td>Products always in Stock</td>\n",
       "      <td>2</td>\n",
       "    </tr>\n",
       "    <tr>\n",
       "      <td>1</td>\n",
       "      <td>fffe43004900440032003100300035003700</td>\n",
       "      <td>Traci Peery</td>\n",
       "      <td>32</td>\n",
       "      <td>F</td>\n",
       "      <td>5K0N3X1</td>\n",
       "      <td>City</td>\n",
       "      <td>Premium Membership</td>\n",
       "      <td>2017-08-28</td>\n",
       "      <td>?</td>\n",
       "      <td>CID21329</td>\n",
       "      <td>...</td>\n",
       "      <td>306.34</td>\n",
       "      <td>12838.38</td>\n",
       "      <td>10.0</td>\n",
       "      <td>NaN</td>\n",
       "      <td>Yes</td>\n",
       "      <td>No</td>\n",
       "      <td>Yes</td>\n",
       "      <td>Solved</td>\n",
       "      <td>Quality Customer Care</td>\n",
       "      <td>1</td>\n",
       "    </tr>\n",
       "    <tr>\n",
       "      <td>2</td>\n",
       "      <td>fffe4300490044003100390032003600</td>\n",
       "      <td>Merideth Mcmeen</td>\n",
       "      <td>44</td>\n",
       "      <td>F</td>\n",
       "      <td>1F2TCL3</td>\n",
       "      <td>Town</td>\n",
       "      <td>No Membership</td>\n",
       "      <td>2016-11-11</td>\n",
       "      <td>Yes</td>\n",
       "      <td>CID12313</td>\n",
       "      <td>...</td>\n",
       "      <td>516.16</td>\n",
       "      <td>21027.00</td>\n",
       "      <td>22.0</td>\n",
       "      <td>500.69</td>\n",
       "      <td>No</td>\n",
       "      <td>Yes</td>\n",
       "      <td>Yes</td>\n",
       "      <td>Solved in Follow-up</td>\n",
       "      <td>Poor Website</td>\n",
       "      <td>5</td>\n",
       "    </tr>\n",
       "    <tr>\n",
       "      <td>3</td>\n",
       "      <td>fffe43004900440036003000330031003600</td>\n",
       "      <td>Eufemia Cardwell</td>\n",
       "      <td>37</td>\n",
       "      <td>M</td>\n",
       "      <td>VJGJ33N</td>\n",
       "      <td>City</td>\n",
       "      <td>No Membership</td>\n",
       "      <td>2016-10-29</td>\n",
       "      <td>Yes</td>\n",
       "      <td>CID3793</td>\n",
       "      <td>...</td>\n",
       "      <td>53.27</td>\n",
       "      <td>25239.56</td>\n",
       "      <td>6.0</td>\n",
       "      <td>567.66</td>\n",
       "      <td>No</td>\n",
       "      <td>Yes</td>\n",
       "      <td>Yes</td>\n",
       "      <td>Unsolved</td>\n",
       "      <td>Poor Website</td>\n",
       "      <td>5</td>\n",
       "    </tr>\n",
       "    <tr>\n",
       "      <td>4</td>\n",
       "      <td>fffe43004900440031003900350030003600</td>\n",
       "      <td>Meghan Kosak</td>\n",
       "      <td>31</td>\n",
       "      <td>F</td>\n",
       "      <td>SVZXCWB</td>\n",
       "      <td>City</td>\n",
       "      <td>No Membership</td>\n",
       "      <td>2017-09-12</td>\n",
       "      <td>No</td>\n",
       "      <td>xxxxxxxx</td>\n",
       "      <td>...</td>\n",
       "      <td>113.13</td>\n",
       "      <td>24483.66</td>\n",
       "      <td>16.0</td>\n",
       "      <td>663.06</td>\n",
       "      <td>No</td>\n",
       "      <td>Yes</td>\n",
       "      <td>Yes</td>\n",
       "      <td>Solved</td>\n",
       "      <td>Poor Website</td>\n",
       "      <td>5</td>\n",
       "    </tr>\n",
       "  </tbody>\n",
       "</table>\n",
       "<p>5 rows × 25 columns</p>\n",
       "</div>"
      ],
      "text/plain": [
       "                            customer_id              Name  age gender  \\\n",
       "0      fffe4300490044003600300030003800   Pattie Morrisey   18      F   \n",
       "1  fffe43004900440032003100300035003700       Traci Peery   32      F   \n",
       "2      fffe4300490044003100390032003600   Merideth Mcmeen   44      F   \n",
       "3  fffe43004900440036003000330031003600  Eufemia Cardwell   37      M   \n",
       "4  fffe43004900440031003900350030003600      Meghan Kosak   31      F   \n",
       "\n",
       "  security_no region_category  membership_category joining_date  \\\n",
       "0     XW0DQ7H         Village  Platinum Membership   2017-08-17   \n",
       "1     5K0N3X1            City   Premium Membership   2017-08-28   \n",
       "2     1F2TCL3            Town        No Membership   2016-11-11   \n",
       "3     VJGJ33N            City        No Membership   2016-10-29   \n",
       "4     SVZXCWB            City        No Membership   2017-09-12   \n",
       "\n",
       "  joined_through_referral referral_id  ... avg_time_spent  \\\n",
       "0                      No    xxxxxxxx  ...         300.63   \n",
       "1                       ?    CID21329  ...         306.34   \n",
       "2                     Yes    CID12313  ...         516.16   \n",
       "3                     Yes     CID3793  ...          53.27   \n",
       "4                      No    xxxxxxxx  ...         113.13   \n",
       "\n",
       "  avg_transaction_value avg_frequency_login_days points_in_wallet  \\\n",
       "0              53005.25                     17.0           781.75   \n",
       "1              12838.38                     10.0              NaN   \n",
       "2              21027.00                     22.0           500.69   \n",
       "3              25239.56                      6.0           567.66   \n",
       "4              24483.66                     16.0           663.06   \n",
       "\n",
       "   used_special_discount  offer_application_preference  past_complaint  \\\n",
       "0                    Yes                           Yes              No   \n",
       "1                    Yes                            No             Yes   \n",
       "2                     No                           Yes             Yes   \n",
       "3                     No                           Yes             Yes   \n",
       "4                     No                           Yes             Yes   \n",
       "\n",
       "      complaint_status                  feedback churn_risk_score  \n",
       "0       Not Applicable  Products always in Stock                2  \n",
       "1               Solved     Quality Customer Care                1  \n",
       "2  Solved in Follow-up              Poor Website                5  \n",
       "3             Unsolved              Poor Website                5  \n",
       "4               Solved              Poor Website                5  \n",
       "\n",
       "[5 rows x 25 columns]"
      ]
     },
     "execution_count": 4,
     "metadata": {},
     "output_type": "execute_result"
    }
   ],
   "source": [
    "train.head()"
   ]
  },
  {
   "cell_type": "code",
   "execution_count": 8,
   "metadata": {},
   "outputs": [
    {
     "data": {
      "text/plain": [
       "(36992, 25)"
      ]
     },
     "execution_count": 8,
     "metadata": {},
     "output_type": "execute_result"
    }
   ],
   "source": [
    "train.shape"
   ]
  },
  {
   "cell_type": "code",
   "execution_count": 9,
   "metadata": {},
   "outputs": [
    {
     "data": {
      "text/plain": [
       "0"
      ]
     },
     "execution_count": 9,
     "metadata": {},
     "output_type": "execute_result"
    }
   ],
   "source": [
    "train['churn_risk_score'].isna().sum()"
   ]
  },
  {
   "cell_type": "code",
   "execution_count": 10,
   "metadata": {},
   "outputs": [
    {
     "data": {
      "text/html": [
       "<div>\n",
       "<style scoped>\n",
       "    .dataframe tbody tr th:only-of-type {\n",
       "        vertical-align: middle;\n",
       "    }\n",
       "\n",
       "    .dataframe tbody tr th {\n",
       "        vertical-align: top;\n",
       "    }\n",
       "\n",
       "    .dataframe thead th {\n",
       "        text-align: right;\n",
       "    }\n",
       "</style>\n",
       "<table border=\"1\" class=\"dataframe\">\n",
       "  <thead>\n",
       "    <tr style=\"text-align: right;\">\n",
       "      <th></th>\n",
       "      <th>customer_id</th>\n",
       "      <th>Name</th>\n",
       "      <th>age</th>\n",
       "      <th>gender</th>\n",
       "      <th>security_no</th>\n",
       "      <th>region_category</th>\n",
       "      <th>membership_category</th>\n",
       "      <th>joining_date</th>\n",
       "      <th>joined_through_referral</th>\n",
       "      <th>referral_id</th>\n",
       "      <th>...</th>\n",
       "      <th>days_since_last_login</th>\n",
       "      <th>avg_time_spent</th>\n",
       "      <th>avg_transaction_value</th>\n",
       "      <th>avg_frequency_login_days</th>\n",
       "      <th>points_in_wallet</th>\n",
       "      <th>used_special_discount</th>\n",
       "      <th>offer_application_preference</th>\n",
       "      <th>past_complaint</th>\n",
       "      <th>complaint_status</th>\n",
       "      <th>feedback</th>\n",
       "    </tr>\n",
       "  </thead>\n",
       "  <tbody>\n",
       "    <tr>\n",
       "      <td>0</td>\n",
       "      <td>fffe43004900440031003700300030003400</td>\n",
       "      <td>Alethia Meints</td>\n",
       "      <td>50</td>\n",
       "      <td>F</td>\n",
       "      <td>OQJ1XAY</td>\n",
       "      <td>Village</td>\n",
       "      <td>Premium Membership</td>\n",
       "      <td>2015-11-02</td>\n",
       "      <td>No</td>\n",
       "      <td>xxxxxxxx</td>\n",
       "      <td>...</td>\n",
       "      <td>12</td>\n",
       "      <td>386.26</td>\n",
       "      <td>40721.44</td>\n",
       "      <td>7.0</td>\n",
       "      <td>733.830000</td>\n",
       "      <td>Yes</td>\n",
       "      <td>No</td>\n",
       "      <td>No</td>\n",
       "      <td>Not Applicable</td>\n",
       "      <td>Poor Product Quality</td>\n",
       "    </tr>\n",
       "    <tr>\n",
       "      <td>1</td>\n",
       "      <td>fffe43004900440031003900370037003300</td>\n",
       "      <td>Ming Lopez</td>\n",
       "      <td>41</td>\n",
       "      <td>M</td>\n",
       "      <td>OUQRPKO</td>\n",
       "      <td>Village</td>\n",
       "      <td>Gold Membership</td>\n",
       "      <td>2016-03-01</td>\n",
       "      <td>No</td>\n",
       "      <td>xxxxxxxx</td>\n",
       "      <td>...</td>\n",
       "      <td>11</td>\n",
       "      <td>37.80</td>\n",
       "      <td>9644.40</td>\n",
       "      <td>9.0</td>\n",
       "      <td>726.000000</td>\n",
       "      <td>Yes</td>\n",
       "      <td>No</td>\n",
       "      <td>No</td>\n",
       "      <td>Not Applicable</td>\n",
       "      <td>Poor Website</td>\n",
       "    </tr>\n",
       "    <tr>\n",
       "      <td>2</td>\n",
       "      <td>fffe43004900440034003800360037003000</td>\n",
       "      <td>Carina Flannigan</td>\n",
       "      <td>31</td>\n",
       "      <td>F</td>\n",
       "      <td>02J2RE7</td>\n",
       "      <td>Town</td>\n",
       "      <td>Silver Membership</td>\n",
       "      <td>2017-03-03</td>\n",
       "      <td>No</td>\n",
       "      <td>xxxxxxxx</td>\n",
       "      <td>...</td>\n",
       "      <td>18</td>\n",
       "      <td>215.36</td>\n",
       "      <td>3693.25</td>\n",
       "      <td>21.0</td>\n",
       "      <td>713.780000</td>\n",
       "      <td>Yes</td>\n",
       "      <td>No</td>\n",
       "      <td>Yes</td>\n",
       "      <td>Solved in Follow-up</td>\n",
       "      <td>No reason specified</td>\n",
       "    </tr>\n",
       "    <tr>\n",
       "      <td>3</td>\n",
       "      <td>fffe43004900440036003200370033003400</td>\n",
       "      <td>Kyung Wanner</td>\n",
       "      <td>64</td>\n",
       "      <td>M</td>\n",
       "      <td>5YEQIF1</td>\n",
       "      <td>Town</td>\n",
       "      <td>Silver Membership</td>\n",
       "      <td>2017-08-18</td>\n",
       "      <td>Yes</td>\n",
       "      <td>CID8941</td>\n",
       "      <td>...</td>\n",
       "      <td>-999</td>\n",
       "      <td>44.57</td>\n",
       "      <td>36809.56</td>\n",
       "      <td>11.0</td>\n",
       "      <td>744.970000</td>\n",
       "      <td>Yes</td>\n",
       "      <td>No</td>\n",
       "      <td>Yes</td>\n",
       "      <td>No Information Available</td>\n",
       "      <td>Too many ads</td>\n",
       "    </tr>\n",
       "    <tr>\n",
       "      <td>4</td>\n",
       "      <td>fffe43004900440035003000370031003900</td>\n",
       "      <td>Enola Gatto</td>\n",
       "      <td>16</td>\n",
       "      <td>F</td>\n",
       "      <td>100RYB5</td>\n",
       "      <td>Town</td>\n",
       "      <td>No Membership</td>\n",
       "      <td>2015-05-05</td>\n",
       "      <td>Yes</td>\n",
       "      <td>CID5690</td>\n",
       "      <td>...</td>\n",
       "      <td>6</td>\n",
       "      <td>349.88</td>\n",
       "      <td>40675.86</td>\n",
       "      <td>8.0</td>\n",
       "      <td>299.048351</td>\n",
       "      <td>No</td>\n",
       "      <td>Yes</td>\n",
       "      <td>Yes</td>\n",
       "      <td>Solved in Follow-up</td>\n",
       "      <td>Poor Website</td>\n",
       "    </tr>\n",
       "  </tbody>\n",
       "</table>\n",
       "<p>5 rows × 24 columns</p>\n",
       "</div>"
      ],
      "text/plain": [
       "                            customer_id              Name  age gender  \\\n",
       "0  fffe43004900440031003700300030003400    Alethia Meints   50      F   \n",
       "1  fffe43004900440031003900370037003300        Ming Lopez   41      M   \n",
       "2  fffe43004900440034003800360037003000  Carina Flannigan   31      F   \n",
       "3  fffe43004900440036003200370033003400      Kyung Wanner   64      M   \n",
       "4  fffe43004900440035003000370031003900       Enola Gatto   16      F   \n",
       "\n",
       "  security_no region_category membership_category joining_date  \\\n",
       "0     OQJ1XAY         Village  Premium Membership   2015-11-02   \n",
       "1     OUQRPKO         Village     Gold Membership   2016-03-01   \n",
       "2     02J2RE7            Town   Silver Membership   2017-03-03   \n",
       "3     5YEQIF1            Town   Silver Membership   2017-08-18   \n",
       "4     100RYB5            Town       No Membership   2015-05-05   \n",
       "\n",
       "  joined_through_referral referral_id  ... days_since_last_login  \\\n",
       "0                      No    xxxxxxxx  ...                    12   \n",
       "1                      No    xxxxxxxx  ...                    11   \n",
       "2                      No    xxxxxxxx  ...                    18   \n",
       "3                     Yes     CID8941  ...                  -999   \n",
       "4                     Yes     CID5690  ...                     6   \n",
       "\n",
       "  avg_time_spent avg_transaction_value avg_frequency_login_days  \\\n",
       "0         386.26              40721.44                      7.0   \n",
       "1          37.80               9644.40                      9.0   \n",
       "2         215.36               3693.25                     21.0   \n",
       "3          44.57              36809.56                     11.0   \n",
       "4         349.88              40675.86                      8.0   \n",
       "\n",
       "   points_in_wallet  used_special_discount  offer_application_preference  \\\n",
       "0        733.830000                    Yes                            No   \n",
       "1        726.000000                    Yes                            No   \n",
       "2        713.780000                    Yes                            No   \n",
       "3        744.970000                    Yes                            No   \n",
       "4        299.048351                     No                           Yes   \n",
       "\n",
       "  past_complaint          complaint_status              feedback  \n",
       "0             No            Not Applicable  Poor Product Quality  \n",
       "1             No            Not Applicable          Poor Website  \n",
       "2            Yes       Solved in Follow-up   No reason specified  \n",
       "3            Yes  No Information Available          Too many ads  \n",
       "4            Yes       Solved in Follow-up          Poor Website  \n",
       "\n",
       "[5 rows x 24 columns]"
      ]
     },
     "execution_count": 10,
     "metadata": {},
     "output_type": "execute_result"
    }
   ],
   "source": [
    "test.head()"
   ]
  },
  {
   "cell_type": "code",
   "execution_count": 11,
   "metadata": {},
   "outputs": [
    {
     "data": {
      "text/plain": [
       "Index(['customer_id', 'Name', 'age', 'gender', 'security_no',\n",
       "       'region_category', 'membership_category', 'joining_date',\n",
       "       'joined_through_referral', 'referral_id', 'preferred_offer_types',\n",
       "       'medium_of_operation', 'internet_option', 'last_visit_time',\n",
       "       'days_since_last_login', 'avg_time_spent', 'avg_transaction_value',\n",
       "       'avg_frequency_login_days', 'points_in_wallet', 'used_special_discount',\n",
       "       'offer_application_preference', 'past_complaint', 'complaint_status',\n",
       "       'feedback', 'churn_risk_score'],\n",
       "      dtype='object')"
      ]
     },
     "execution_count": 11,
     "metadata": {},
     "output_type": "execute_result"
    }
   ],
   "source": [
    "train.columns"
   ]
  },
  {
   "cell_type": "code",
   "execution_count": 12,
   "metadata": {},
   "outputs": [
    {
     "data": {
      "text/plain": [
       "Index(['customer_id', 'Name', 'age', 'gender', 'security_no',\n",
       "       'region_category', 'membership_category', 'joining_date',\n",
       "       'joined_through_referral', 'referral_id', 'preferred_offer_types',\n",
       "       'medium_of_operation', 'internet_option', 'last_visit_time',\n",
       "       'days_since_last_login', 'avg_time_spent', 'avg_transaction_value',\n",
       "       'avg_frequency_login_days', 'points_in_wallet', 'used_special_discount',\n",
       "       'offer_application_preference', 'past_complaint', 'complaint_status',\n",
       "       'feedback'],\n",
       "      dtype='object')"
      ]
     },
     "execution_count": 12,
     "metadata": {},
     "output_type": "execute_result"
    }
   ],
   "source": [
    "test.columns"
   ]
  },
  {
   "cell_type": "code",
   "execution_count": 9,
   "metadata": {},
   "outputs": [],
   "source": [
    "customer_id = test['customer_id']"
   ]
  },
  {
   "cell_type": "code",
   "execution_count": 10,
   "metadata": {},
   "outputs": [
    {
     "data": {
      "text/plain": [
       "array([ 2,  1,  5,  3,  4, -1], dtype=int64)"
      ]
     },
     "execution_count": 10,
     "metadata": {},
     "output_type": "execute_result"
    }
   ],
   "source": [
    "train['churn_risk_score'].unique()"
   ]
  },
  {
   "cell_type": "code",
   "execution_count": 11,
   "metadata": {},
   "outputs": [],
   "source": [
    "# Concat both data set\n",
    "# after concat train, test fetuare engineering and data cleaning is easy\n",
    "test['churn_risk_score']=np.nan\n",
    "train['data']='train'\n",
    "test['data']='test'\n",
    "test=test[train.columns]\n",
    "c_all=pd.concat([train,test],axis=0)"
   ]
  },
  {
   "cell_type": "code",
   "execution_count": 12,
   "metadata": {},
   "outputs": [
    {
     "data": {
      "text/html": [
       "<div>\n",
       "<style scoped>\n",
       "    .dataframe tbody tr th:only-of-type {\n",
       "        vertical-align: middle;\n",
       "    }\n",
       "\n",
       "    .dataframe tbody tr th {\n",
       "        vertical-align: top;\n",
       "    }\n",
       "\n",
       "    .dataframe thead th {\n",
       "        text-align: right;\n",
       "    }\n",
       "</style>\n",
       "<table border=\"1\" class=\"dataframe\">\n",
       "  <thead>\n",
       "    <tr style=\"text-align: right;\">\n",
       "      <th></th>\n",
       "      <th>customer_id</th>\n",
       "      <th>Name</th>\n",
       "      <th>age</th>\n",
       "      <th>gender</th>\n",
       "      <th>security_no</th>\n",
       "      <th>region_category</th>\n",
       "      <th>membership_category</th>\n",
       "      <th>joining_date</th>\n",
       "      <th>joined_through_referral</th>\n",
       "      <th>referral_id</th>\n",
       "      <th>...</th>\n",
       "      <th>avg_transaction_value</th>\n",
       "      <th>avg_frequency_login_days</th>\n",
       "      <th>points_in_wallet</th>\n",
       "      <th>used_special_discount</th>\n",
       "      <th>offer_application_preference</th>\n",
       "      <th>past_complaint</th>\n",
       "      <th>complaint_status</th>\n",
       "      <th>feedback</th>\n",
       "      <th>churn_risk_score</th>\n",
       "      <th>data</th>\n",
       "    </tr>\n",
       "  </thead>\n",
       "  <tbody>\n",
       "    <tr>\n",
       "      <td>0</td>\n",
       "      <td>fffe4300490044003600300030003800</td>\n",
       "      <td>Pattie Morrisey</td>\n",
       "      <td>18</td>\n",
       "      <td>F</td>\n",
       "      <td>XW0DQ7H</td>\n",
       "      <td>Village</td>\n",
       "      <td>Platinum Membership</td>\n",
       "      <td>2017-08-17</td>\n",
       "      <td>No</td>\n",
       "      <td>xxxxxxxx</td>\n",
       "      <td>...</td>\n",
       "      <td>53005.25</td>\n",
       "      <td>17.0</td>\n",
       "      <td>781.75</td>\n",
       "      <td>Yes</td>\n",
       "      <td>Yes</td>\n",
       "      <td>No</td>\n",
       "      <td>Not Applicable</td>\n",
       "      <td>Products always in Stock</td>\n",
       "      <td>2.0</td>\n",
       "      <td>train</td>\n",
       "    </tr>\n",
       "    <tr>\n",
       "      <td>1</td>\n",
       "      <td>fffe43004900440032003100300035003700</td>\n",
       "      <td>Traci Peery</td>\n",
       "      <td>32</td>\n",
       "      <td>F</td>\n",
       "      <td>5K0N3X1</td>\n",
       "      <td>City</td>\n",
       "      <td>Premium Membership</td>\n",
       "      <td>2017-08-28</td>\n",
       "      <td>?</td>\n",
       "      <td>CID21329</td>\n",
       "      <td>...</td>\n",
       "      <td>12838.38</td>\n",
       "      <td>10.0</td>\n",
       "      <td>NaN</td>\n",
       "      <td>Yes</td>\n",
       "      <td>No</td>\n",
       "      <td>Yes</td>\n",
       "      <td>Solved</td>\n",
       "      <td>Quality Customer Care</td>\n",
       "      <td>1.0</td>\n",
       "      <td>train</td>\n",
       "    </tr>\n",
       "    <tr>\n",
       "      <td>2</td>\n",
       "      <td>fffe4300490044003100390032003600</td>\n",
       "      <td>Merideth Mcmeen</td>\n",
       "      <td>44</td>\n",
       "      <td>F</td>\n",
       "      <td>1F2TCL3</td>\n",
       "      <td>Town</td>\n",
       "      <td>No Membership</td>\n",
       "      <td>2016-11-11</td>\n",
       "      <td>Yes</td>\n",
       "      <td>CID12313</td>\n",
       "      <td>...</td>\n",
       "      <td>21027.00</td>\n",
       "      <td>22.0</td>\n",
       "      <td>500.69</td>\n",
       "      <td>No</td>\n",
       "      <td>Yes</td>\n",
       "      <td>Yes</td>\n",
       "      <td>Solved in Follow-up</td>\n",
       "      <td>Poor Website</td>\n",
       "      <td>5.0</td>\n",
       "      <td>train</td>\n",
       "    </tr>\n",
       "    <tr>\n",
       "      <td>3</td>\n",
       "      <td>fffe43004900440036003000330031003600</td>\n",
       "      <td>Eufemia Cardwell</td>\n",
       "      <td>37</td>\n",
       "      <td>M</td>\n",
       "      <td>VJGJ33N</td>\n",
       "      <td>City</td>\n",
       "      <td>No Membership</td>\n",
       "      <td>2016-10-29</td>\n",
       "      <td>Yes</td>\n",
       "      <td>CID3793</td>\n",
       "      <td>...</td>\n",
       "      <td>25239.56</td>\n",
       "      <td>6.0</td>\n",
       "      <td>567.66</td>\n",
       "      <td>No</td>\n",
       "      <td>Yes</td>\n",
       "      <td>Yes</td>\n",
       "      <td>Unsolved</td>\n",
       "      <td>Poor Website</td>\n",
       "      <td>5.0</td>\n",
       "      <td>train</td>\n",
       "    </tr>\n",
       "    <tr>\n",
       "      <td>4</td>\n",
       "      <td>fffe43004900440031003900350030003600</td>\n",
       "      <td>Meghan Kosak</td>\n",
       "      <td>31</td>\n",
       "      <td>F</td>\n",
       "      <td>SVZXCWB</td>\n",
       "      <td>City</td>\n",
       "      <td>No Membership</td>\n",
       "      <td>2017-09-12</td>\n",
       "      <td>No</td>\n",
       "      <td>xxxxxxxx</td>\n",
       "      <td>...</td>\n",
       "      <td>24483.66</td>\n",
       "      <td>16.0</td>\n",
       "      <td>663.06</td>\n",
       "      <td>No</td>\n",
       "      <td>Yes</td>\n",
       "      <td>Yes</td>\n",
       "      <td>Solved</td>\n",
       "      <td>Poor Website</td>\n",
       "      <td>5.0</td>\n",
       "      <td>train</td>\n",
       "    </tr>\n",
       "  </tbody>\n",
       "</table>\n",
       "<p>5 rows × 26 columns</p>\n",
       "</div>"
      ],
      "text/plain": [
       "                            customer_id              Name  age gender  \\\n",
       "0      fffe4300490044003600300030003800   Pattie Morrisey   18      F   \n",
       "1  fffe43004900440032003100300035003700       Traci Peery   32      F   \n",
       "2      fffe4300490044003100390032003600   Merideth Mcmeen   44      F   \n",
       "3  fffe43004900440036003000330031003600  Eufemia Cardwell   37      M   \n",
       "4  fffe43004900440031003900350030003600      Meghan Kosak   31      F   \n",
       "\n",
       "  security_no region_category  membership_category joining_date  \\\n",
       "0     XW0DQ7H         Village  Platinum Membership   2017-08-17   \n",
       "1     5K0N3X1            City   Premium Membership   2017-08-28   \n",
       "2     1F2TCL3            Town        No Membership   2016-11-11   \n",
       "3     VJGJ33N            City        No Membership   2016-10-29   \n",
       "4     SVZXCWB            City        No Membership   2017-09-12   \n",
       "\n",
       "  joined_through_referral referral_id  ... avg_transaction_value  \\\n",
       "0                      No    xxxxxxxx  ...              53005.25   \n",
       "1                       ?    CID21329  ...              12838.38   \n",
       "2                     Yes    CID12313  ...              21027.00   \n",
       "3                     Yes     CID3793  ...              25239.56   \n",
       "4                      No    xxxxxxxx  ...              24483.66   \n",
       "\n",
       "  avg_frequency_login_days points_in_wallet used_special_discount  \\\n",
       "0                     17.0           781.75                   Yes   \n",
       "1                     10.0              NaN                   Yes   \n",
       "2                     22.0           500.69                    No   \n",
       "3                      6.0           567.66                    No   \n",
       "4                     16.0           663.06                    No   \n",
       "\n",
       "   offer_application_preference  past_complaint     complaint_status  \\\n",
       "0                           Yes              No       Not Applicable   \n",
       "1                            No             Yes               Solved   \n",
       "2                           Yes             Yes  Solved in Follow-up   \n",
       "3                           Yes             Yes             Unsolved   \n",
       "4                           Yes             Yes               Solved   \n",
       "\n",
       "                   feedback  churn_risk_score   data  \n",
       "0  Products always in Stock               2.0  train  \n",
       "1     Quality Customer Care               1.0  train  \n",
       "2              Poor Website               5.0  train  \n",
       "3              Poor Website               5.0  train  \n",
       "4              Poor Website               5.0  train  \n",
       "\n",
       "[5 rows x 26 columns]"
      ]
     },
     "execution_count": 12,
     "metadata": {},
     "output_type": "execute_result"
    }
   ],
   "source": [
    "c_all.head()"
   ]
  },
  {
   "cell_type": "code",
   "execution_count": 13,
   "metadata": {},
   "outputs": [
    {
     "data": {
      "text/plain": [
       "customer_id                         0\n",
       "Name                                0\n",
       "age                                 0\n",
       "gender                              0\n",
       "security_no                         0\n",
       "region_category                  8376\n",
       "membership_category                 0\n",
       "joining_date                        0\n",
       "joined_through_referral             0\n",
       "referral_id                         0\n",
       "preferred_offer_types             447\n",
       "medium_of_operation                 0\n",
       "internet_option                     0\n",
       "last_visit_time                     0\n",
       "days_since_last_login               0\n",
       "avg_time_spent                      0\n",
       "avg_transaction_value               0\n",
       "avg_frequency_login_days            0\n",
       "points_in_wallet                 5406\n",
       "used_special_discount               0\n",
       "offer_application_preference        0\n",
       "past_complaint                      0\n",
       "complaint_status                    0\n",
       "feedback                            0\n",
       "churn_risk_score                19919\n",
       "data                                0\n",
       "dtype: int64"
      ]
     },
     "execution_count": 13,
     "metadata": {},
     "output_type": "execute_result"
    }
   ],
   "source": [
    "c_all.isna().sum()"
   ]
  },
  {
   "cell_type": "code",
   "execution_count": 14,
   "metadata": {},
   "outputs": [
    {
     "data": {
      "text/plain": [
       "customer_id                      object\n",
       "Name                             object\n",
       "age                               int64\n",
       "gender                           object\n",
       "security_no                      object\n",
       "region_category                  object\n",
       "membership_category              object\n",
       "joining_date                     object\n",
       "joined_through_referral          object\n",
       "referral_id                      object\n",
       "preferred_offer_types            object\n",
       "medium_of_operation              object\n",
       "internet_option                  object\n",
       "last_visit_time                  object\n",
       "days_since_last_login             int64\n",
       "avg_time_spent                  float64\n",
       "avg_transaction_value           float64\n",
       "avg_frequency_login_days         object\n",
       "points_in_wallet                float64\n",
       "used_special_discount            object\n",
       "offer_application_preference     object\n",
       "past_complaint                   object\n",
       "complaint_status                 object\n",
       "feedback                         object\n",
       "churn_risk_score                float64\n",
       "data                             object\n",
       "dtype: object"
      ]
     },
     "execution_count": 14,
     "metadata": {},
     "output_type": "execute_result"
    }
   ],
   "source": [
    "c_all.dtypes"
   ]
  },
  {
   "cell_type": "code",
   "execution_count": 15,
   "metadata": {},
   "outputs": [],
   "source": [
    "c_all.drop(['customer_id','Name'],axis=1,inplace=True)"
   ]
  },
  {
   "cell_type": "code",
   "execution_count": 16,
   "metadata": {},
   "outputs": [],
   "source": [
    "# gender\n",
    "c_all['g_female'] = (c_all['gender'] == \"F\").astype(int)\n",
    "c_all[\"g_male\"] = (c_all['gender']=='M').astype(int)\n",
    "c_all.drop(['gender'],axis=1,inplace=True)"
   ]
  },
  {
   "cell_type": "code",
   "execution_count": 17,
   "metadata": {},
   "outputs": [
    {
     "data": {
      "text/plain": [
       "array(['Village', 'City', 'Town', nan], dtype=object)"
      ]
     },
     "execution_count": 17,
     "metadata": {},
     "output_type": "execute_result"
    }
   ],
   "source": [
    "# region_category\n",
    "c_all['region_category'].unique()"
   ]
  },
  {
   "cell_type": "code",
   "execution_count": 18,
   "metadata": {},
   "outputs": [],
   "source": [
    "c_all['region_category'] = c_all['region_category'].fillna(c_all['region_category'].mode()[0])\n",
    "c_all['rg_vilage'] = (c_all['region_category'] == 'Village').astype(int)\n",
    "c_all['rg_city'] = (c_all['region_category'] == 'City').astype(int)\n",
    "c_all.drop(['region_category'],axis=1,inplace=True)"
   ]
  },
  {
   "cell_type": "code",
   "execution_count": 19,
   "metadata": {},
   "outputs": [
    {
     "data": {
      "text/plain": [
       "array(['Platinum Membership', 'Premium Membership', 'No Membership',\n",
       "       'Gold Membership', 'Silver Membership', 'Basic Membership'],\n",
       "      dtype=object)"
      ]
     },
     "execution_count": 19,
     "metadata": {},
     "output_type": "execute_result"
    }
   ],
   "source": [
    "# membership_category\n",
    "c_all['membership_category'].unique()"
   ]
  },
  {
   "cell_type": "code",
   "execution_count": 20,
   "metadata": {},
   "outputs": [],
   "source": [
    "c_all['mc_Gold'] = (c_all['membership_category']=='Gold Membership').astype(int)\n",
    "c_all['mc_Silver'] = (c_all['membership_category'] == 'Silver Membership').astype(int)\n",
    "c_all['mc_Platinum'] = (c_all['membership_category'] == 'Platinum Membership').astype(int)\n",
    "c_all['mc_Premium'] = (c_all['membership_category'] == 'Premium Membership').astype(int)\n",
    "c_all['mc_Basic'] = (c_all['membership_category'] == 'Basic Membership').astype(int)\n",
    "c_all.drop(['membership_category'],axis=1,inplace=True)\n"
   ]
  },
  {
   "cell_type": "code",
   "execution_count": 21,
   "metadata": {},
   "outputs": [
    {
     "data": {
      "text/plain": [
       "array(['No', '?', 'Yes'], dtype=object)"
      ]
     },
     "execution_count": 21,
     "metadata": {},
     "output_type": "execute_result"
    }
   ],
   "source": [
    "# joined_through_referral\n",
    "c_all['joined_through_referral'].unique()"
   ]
  },
  {
   "cell_type": "code",
   "execution_count": 22,
   "metadata": {},
   "outputs": [],
   "source": [
    "c_all['jr_yes'] = (c_all['joined_through_referral'] == 'Yes').astype(int)\n",
    "c_all['jr_no'] = (c_all['joined_through_referral'] == 'No').astype(int)\n",
    "c_all.drop(['joined_through_referral'],axis=1,inplace=True)\n"
   ]
  },
  {
   "cell_type": "code",
   "execution_count": 23,
   "metadata": {},
   "outputs": [
    {
     "data": {
      "text/plain": [
       "array(['Gift Vouchers/Coupons', 'Credit/Debit Card Offers',\n",
       "       'Without Offers', nan], dtype=object)"
      ]
     },
     "execution_count": 23,
     "metadata": {},
     "output_type": "execute_result"
    }
   ],
   "source": [
    "# preferred_offer_types\n",
    "c_all['preferred_offer_types'].unique()"
   ]
  },
  {
   "cell_type": "code",
   "execution_count": 24,
   "metadata": {},
   "outputs": [],
   "source": [
    "c_all['preferred_offer_types'] = c_all['preferred_offer_types'].fillna(c_all['preferred_offer_types'].mode()[0])\n",
    "c_all['pot_GiftVouchersCoupons'] = (c_all['preferred_offer_types'] == 'Gift Vouchers/Coupons').astype(int)\n",
    "c_all['CreditDebitCard'] = (c_all['preferred_offer_types'] == 'Credit/Debit Card Offers')\n",
    "c_all.drop(['preferred_offer_types'],axis=1,inplace=True)\n",
    "\n"
   ]
  },
  {
   "cell_type": "code",
   "execution_count": 25,
   "metadata": {},
   "outputs": [
    {
     "data": {
      "text/plain": [
       "array(['?', 'Desktop', 'Smartphone', 'Both'], dtype=object)"
      ]
     },
     "execution_count": 25,
     "metadata": {},
     "output_type": "execute_result"
    }
   ],
   "source": [
    "# medium_of_operation\n",
    "c_all['medium_of_operation'].unique()"
   ]
  },
  {
   "cell_type": "code",
   "execution_count": 26,
   "metadata": {},
   "outputs": [],
   "source": [
    "c_all['mo_Desktop'] = (c_all['medium_of_operation'] == 'Desktop').astype(int)\n",
    "c_all['mo_Smartphone'] = (c_all['medium_of_operation'] == 'Smartphone').astype(int)\n",
    "c_all['mo_Both'] = (c_all['medium_of_operation'] == 'Both').astype(int)\n",
    "c_all.drop(['medium_of_operation'],axis=1,inplace=True)\n"
   ]
  },
  {
   "cell_type": "code",
   "execution_count": 27,
   "metadata": {},
   "outputs": [
    {
     "data": {
      "text/plain": [
       "array(['Wi-Fi', 'Mobile_Data', 'Fiber_Optic'], dtype=object)"
      ]
     },
     "execution_count": 27,
     "metadata": {},
     "output_type": "execute_result"
    }
   ],
   "source": [
    "# internet_option\n",
    "c_all['internet_option'].unique()"
   ]
  },
  {
   "cell_type": "code",
   "execution_count": 28,
   "metadata": {},
   "outputs": [],
   "source": [
    "c_all['io_Mobile_Data'] = (c_all['internet_option'] == 'Mobile_Data').astype(int)\n",
    "c_all['io_Fiber_Optic'] = (c_all['internet_option'] == 'Fiber_Optic').astype(int)\n",
    "c_all.drop(['internet_option'],axis=1,inplace=True)\n"
   ]
  },
  {
   "cell_type": "code",
   "execution_count": 29,
   "metadata": {},
   "outputs": [
    {
     "data": {
      "text/plain": [
       "array(['Yes', 'No'], dtype=object)"
      ]
     },
     "execution_count": 29,
     "metadata": {},
     "output_type": "execute_result"
    }
   ],
   "source": [
    "# used_special_discount\n",
    "c_all['used_special_discount'].unique()"
   ]
  },
  {
   "cell_type": "code",
   "execution_count": 30,
   "metadata": {},
   "outputs": [],
   "source": [
    "c_all['special_discount'] = (c_all['used_special_discount'] == 'Yes').astype(int)\n",
    "c_all.drop(['used_special_discount'],axis=1,inplace=True)\n"
   ]
  },
  {
   "cell_type": "code",
   "execution_count": 31,
   "metadata": {},
   "outputs": [
    {
     "data": {
      "text/plain": [
       "array(['Yes', 'No'], dtype=object)"
      ]
     },
     "execution_count": 31,
     "metadata": {},
     "output_type": "execute_result"
    }
   ],
   "source": [
    "# offer_application_preference\n",
    "c_all['offer_application_preference'].unique()"
   ]
  },
  {
   "cell_type": "code",
   "execution_count": 32,
   "metadata": {},
   "outputs": [],
   "source": [
    "c_all['offer_application'] = (c_all['offer_application_preference'] == 'Yes').astype(int)\n",
    "c_all.drop(['offer_application_preference'],axis=1,inplace=True)\n"
   ]
  },
  {
   "cell_type": "code",
   "execution_count": 33,
   "metadata": {},
   "outputs": [
    {
     "data": {
      "text/plain": [
       "array(['No', 'Yes'], dtype=object)"
      ]
     },
     "execution_count": 33,
     "metadata": {},
     "output_type": "execute_result"
    }
   ],
   "source": [
    "# past_complaint\n",
    "c_all['past_complaint'].unique()"
   ]
  },
  {
   "cell_type": "code",
   "execution_count": 34,
   "metadata": {},
   "outputs": [],
   "source": [
    "c_all['past_complaint'] = (c_all['past_complaint'] == 'Yes').astype(int)\n"
   ]
  },
  {
   "cell_type": "code",
   "execution_count": 35,
   "metadata": {},
   "outputs": [
    {
     "data": {
      "text/plain": [
       "array(['Not Applicable', 'Solved', 'Solved in Follow-up', 'Unsolved',\n",
       "       'No Information Available'], dtype=object)"
      ]
     },
     "execution_count": 35,
     "metadata": {},
     "output_type": "execute_result"
    }
   ],
   "source": [
    "# complaint_status\n",
    "c_all['complaint_status'].unique()"
   ]
  },
  {
   "cell_type": "code",
   "execution_count": 36,
   "metadata": {},
   "outputs": [],
   "source": [
    "c_all['Solved'] = (c_all['complaint_status'] == 'Solved').astype(int)\n",
    "c_all['Unsolved'] = (c_all['complaint_status'] == 'Unsolved').astype(int)\n",
    "c_all['SolvedFollowup'] = (c_all['complaint_status']=='Solved in Follow-up').astype(int)\n",
    "c_all['NotApplicable'] = (c_all['complaint_status'] == 'Not Applicable').astype(int)\n",
    "c_all.drop(['complaint_status'],axis=1,inplace=True)\n"
   ]
  },
  {
   "cell_type": "code",
   "execution_count": 37,
   "metadata": {},
   "outputs": [
    {
     "data": {
      "text/plain": [
       "array(['Products always in Stock', 'Quality Customer Care',\n",
       "       'Poor Website', 'No reason specified', 'Poor Product Quality',\n",
       "       'Poor Customer Service', 'Too many ads', 'User Friendly Website',\n",
       "       'Reasonable Price'], dtype=object)"
      ]
     },
     "execution_count": 37,
     "metadata": {},
     "output_type": "execute_result"
    }
   ],
   "source": [
    "# feedback\n",
    "c_all['feedback'].unique()"
   ]
  },
  {
   "cell_type": "code",
   "execution_count": 38,
   "metadata": {},
   "outputs": [],
   "source": [
    "c_all['ProductsAlwaysStock'] = (c_all['feedback'] == 'Products always in Stock').astype(int)\n",
    "c_all['QualityCustomerCare'] = (c_all['feedback'] == 'Quality Customer Care').astype(int)\n",
    "c_all['PoorWebsite'] = (c_all['feedback'] == 'Poor Website').astype(int)\n",
    "c_all['PoorProductQuality'] = (c_all['feedback'] == 'Poor Product Quality').astype(int)\n",
    "c_all['PoorCustomerService'] = (c_all['feedback'] == 'Poor Customer Service').astype(int)\n",
    "c_all['Toomanyads'] = (c_all['feedback'] == 'Too many ads').astype(int)\n",
    "c_all['UserFriendlyWebsite'] = (c_all['feedback'] == 'User Friendly Website').astype(int)\n",
    "c_all['ReasonablePrice'] = (c_all['feedback'] == 'Reasonable Price').astype(int)\n",
    "c_all.drop(['feedback'],axis=1,inplace=True)\n",
    "\n"
   ]
  },
  {
   "cell_type": "code",
   "execution_count": 39,
   "metadata": {},
   "outputs": [
    {
     "data": {
      "text/plain": [
       "0    2017-08-17\n",
       "1    2017-08-28\n",
       "2    2016-11-11\n",
       "3    2016-10-29\n",
       "Name: joining_date, dtype: object"
      ]
     },
     "execution_count": 39,
     "metadata": {},
     "output_type": "execute_result"
    }
   ],
   "source": [
    "c_all['joining_date'][0:4]"
   ]
  },
  {
   "cell_type": "code",
   "execution_count": 40,
   "metadata": {},
   "outputs": [],
   "source": [
    "# joining_date\n",
    "c_all['joining_date'] = c_all['joining_date'].str.replace(\"-\",'').astype(int)"
   ]
  },
  {
   "cell_type": "code",
   "execution_count": 41,
   "metadata": {},
   "outputs": [
    {
     "data": {
      "text/plain": [
       "0    16:08:02\n",
       "1    12:38:13\n",
       "2    22:53:21\n",
       "3    15:57:50\n",
       "Name: last_visit_time, dtype: object"
      ]
     },
     "execution_count": 41,
     "metadata": {},
     "output_type": "execute_result"
    }
   ],
   "source": [
    "# last_visit_time\n",
    "c_all['last_visit_time'][0:4]"
   ]
  },
  {
   "cell_type": "code",
   "execution_count": 42,
   "metadata": {},
   "outputs": [],
   "source": [
    "# last_visit_time\n",
    "c_all['last_visit_time'] = c_all['last_visit_time'].str.replace(\":\",'').astype(int)\n"
   ]
  },
  {
   "cell_type": "code",
   "execution_count": 43,
   "metadata": {},
   "outputs": [],
   "source": [
    "# avg_frequency_login_days\n",
    "c_all['avg_frequency_login_days'] = c_all['avg_frequency_login_days'].str.replace('Error','0')\n",
    "c_all['avg_frequency_login_days'] = pd.to_numeric(c_all['avg_frequency_login_days'])\n"
   ]
  },
  {
   "cell_type": "code",
   "execution_count": 44,
   "metadata": {},
   "outputs": [
    {
     "data": {
      "text/plain": [
       "(5406, (56911, 45))"
      ]
     },
     "execution_count": 44,
     "metadata": {},
     "output_type": "execute_result"
    }
   ],
   "source": [
    "# points_in_wallet\n",
    "c_all['points_in_wallet'].isna().sum() ,c_all.shape"
   ]
  },
  {
   "cell_type": "code",
   "execution_count": 45,
   "metadata": {},
   "outputs": [
    {
     "name": "stdout",
     "output_type": "stream",
     "text": [
      "686.563761728606 697.82 0    710.69\n",
      "dtype: float64\n"
     ]
    }
   ],
   "source": [
    "print(c_all['points_in_wallet'].mean(), c_all['points_in_wallet'].median(), c_all['points_in_wallet'].mode())\n",
    "c_all['points_in_wallet'] = c_all['points_in_wallet'].fillna(c_all['points_in_wallet'].median())\n"
   ]
  },
  {
   "cell_type": "code",
   "execution_count": 46,
   "metadata": {},
   "outputs": [
    {
     "name": "stderr",
     "output_type": "stream",
     "text": [
      "Using TensorFlow backend.\n"
     ]
    }
   ],
   "source": [
    "from keras.preprocessing.text import Tokenizer\n",
    "tokenizer = Tokenizer()\n",
    "\n",
    "tokenizer.fit_on_texts(c_all['security_no'])\n"
   ]
  },
  {
   "cell_type": "code",
   "execution_count": 47,
   "metadata": {},
   "outputs": [],
   "source": [
    "c_all['security_no'] = tokenizer.texts_to_sequences(c_all['security_no'])\n"
   ]
  },
  {
   "cell_type": "code",
   "execution_count": 48,
   "metadata": {},
   "outputs": [],
   "source": [
    "from keras.preprocessing.sequence import pad_sequences\n",
    "\n",
    "c_all['security_no'] = pad_sequences(c_all['security_no'], maxlen=1)\n"
   ]
  },
  {
   "cell_type": "code",
   "execution_count": 49,
   "metadata": {},
   "outputs": [
    {
     "data": {
      "text/plain": [
       "array(['xxxxxxxx', 'CID21329', 'CID12313', ..., 'CID918', 'CID45490',\n",
       "       'CID56352'], dtype=object)"
      ]
     },
     "execution_count": 49,
     "metadata": {},
     "output_type": "execute_result"
    }
   ],
   "source": [
    "c_all['referral_id'].unique()"
   ]
  },
  {
   "cell_type": "code",
   "execution_count": 50,
   "metadata": {},
   "outputs": [],
   "source": [
    "c_all['referral_id'] = c_all['referral_id'].str.replace('xxxxxxxx','0')"
   ]
  },
  {
   "cell_type": "code",
   "execution_count": 51,
   "metadata": {},
   "outputs": [],
   "source": [
    "c_all['referral_id'] = c_all['referral_id'].str.replace('CID','')"
   ]
  },
  {
   "cell_type": "code",
   "execution_count": 52,
   "metadata": {},
   "outputs": [],
   "source": [
    "c_all['referral_id'] = c_all['referral_id'].str.replace('No referral','0')"
   ]
  },
  {
   "cell_type": "code",
   "execution_count": 53,
   "metadata": {
    "scrolled": false
   },
   "outputs": [
    {
     "data": {
      "text/plain": [
       "5625    0\n",
       "5625    0\n",
       "Name: referral_id, dtype: object"
      ]
     },
     "execution_count": 53,
     "metadata": {},
     "output_type": "execute_result"
    }
   ],
   "source": [
    "# pd.set_option('display.max_rows', None)\n",
    "\n",
    "c_all['referral_id'][5625]\n"
   ]
  },
  {
   "cell_type": "code",
   "execution_count": 54,
   "metadata": {},
   "outputs": [],
   "source": [
    "c_all['referral_id'] = pd.to_numeric(c_all['referral_id']) # convert everything to float values\n"
   ]
  },
  {
   "cell_type": "code",
   "execution_count": 55,
   "metadata": {},
   "outputs": [
    {
     "data": {
      "text/plain": [
       "age                             0\n",
       "security_no                     0\n",
       "joining_date                    0\n",
       "referral_id                     0\n",
       "last_visit_time                 0\n",
       "days_since_last_login           0\n",
       "avg_time_spent                  0\n",
       "avg_transaction_value           0\n",
       "avg_frequency_login_days        0\n",
       "points_in_wallet                0\n",
       "past_complaint                  0\n",
       "churn_risk_score            19919\n",
       "data                            0\n",
       "g_female                        0\n",
       "g_male                          0\n",
       "rg_vilage                       0\n",
       "rg_city                         0\n",
       "mc_Gold                         0\n",
       "mc_Silver                       0\n",
       "mc_Platinum                     0\n",
       "mc_Premium                      0\n",
       "mc_Basic                        0\n",
       "jr_yes                          0\n",
       "jr_no                           0\n",
       "pot_GiftVouchersCoupons         0\n",
       "CreditDebitCard                 0\n",
       "mo_Desktop                      0\n",
       "mo_Smartphone                   0\n",
       "mo_Both                         0\n",
       "io_Mobile_Data                  0\n",
       "io_Fiber_Optic                  0\n",
       "special_discount                0\n",
       "offer_application               0\n",
       "Solved                          0\n",
       "Unsolved                        0\n",
       "SolvedFollowup                  0\n",
       "NotApplicable                   0\n",
       "ProductsAlwaysStock             0\n",
       "QualityCustomerCare             0\n",
       "PoorWebsite                     0\n",
       "PoorProductQuality              0\n",
       "PoorCustomerService             0\n",
       "Toomanyads                      0\n",
       "UserFriendlyWebsite             0\n",
       "ReasonablePrice                 0\n",
       "dtype: int64"
      ]
     },
     "execution_count": 55,
     "metadata": {},
     "output_type": "execute_result"
    }
   ],
   "source": [
    "c_all.isnull().sum()"
   ]
  },
  {
   "cell_type": "code",
   "execution_count": 56,
   "metadata": {},
   "outputs": [
    {
     "data": {
      "text/plain": [
       "age                           int64\n",
       "security_no                   int32\n",
       "joining_date                  int32\n",
       "referral_id                   int64\n",
       "last_visit_time               int32\n",
       "days_since_last_login         int64\n",
       "avg_time_spent              float64\n",
       "avg_transaction_value       float64\n",
       "avg_frequency_login_days    float64\n",
       "points_in_wallet            float64\n",
       "past_complaint                int32\n",
       "churn_risk_score            float64\n",
       "data                         object\n",
       "g_female                      int32\n",
       "g_male                        int32\n",
       "rg_vilage                     int32\n",
       "rg_city                       int32\n",
       "mc_Gold                       int32\n",
       "mc_Silver                     int32\n",
       "mc_Platinum                   int32\n",
       "mc_Premium                    int32\n",
       "mc_Basic                      int32\n",
       "jr_yes                        int32\n",
       "jr_no                         int32\n",
       "pot_GiftVouchersCoupons       int32\n",
       "CreditDebitCard                bool\n",
       "mo_Desktop                    int32\n",
       "mo_Smartphone                 int32\n",
       "mo_Both                       int32\n",
       "io_Mobile_Data                int32\n",
       "io_Fiber_Optic                int32\n",
       "special_discount              int32\n",
       "offer_application             int32\n",
       "Solved                        int32\n",
       "Unsolved                      int32\n",
       "SolvedFollowup                int32\n",
       "NotApplicable                 int32\n",
       "ProductsAlwaysStock           int32\n",
       "QualityCustomerCare           int32\n",
       "PoorWebsite                   int32\n",
       "PoorProductQuality            int32\n",
       "PoorCustomerService           int32\n",
       "Toomanyads                    int32\n",
       "UserFriendlyWebsite           int32\n",
       "ReasonablePrice               int32\n",
       "dtype: object"
      ]
     },
     "execution_count": 56,
     "metadata": {},
     "output_type": "execute_result"
    }
   ],
   "source": [
    "c_all.dtypes"
   ]
  },
  {
   "cell_type": "code",
   "execution_count": 57,
   "metadata": {},
   "outputs": [
    {
     "name": "stderr",
     "output_type": "stream",
     "text": [
      "C:\\Users\\user\\Anaconda3\\lib\\site-packages\\pandas\\core\\frame.py:4102: SettingWithCopyWarning: \n",
      "A value is trying to be set on a copy of a slice from a DataFrame\n",
      "\n",
      "See the caveats in the documentation: http://pandas.pydata.org/pandas-docs/stable/user_guide/indexing.html#returning-a-view-versus-a-copy\n",
      "  errors=errors,\n"
     ]
    }
   ],
   "source": [
    "c_train=c_all[c_all['data']=='train']\n",
    "del c_train['data']\n",
    "c_test=c_all[c_all['data']=='test']\n",
    "c_test.drop(['churn_risk_score','data'],axis=1,inplace=True)"
   ]
  },
  {
   "cell_type": "code",
   "execution_count": 58,
   "metadata": {},
   "outputs": [],
   "source": [
    "del c_all"
   ]
  },
  {
   "cell_type": "code",
   "execution_count": 59,
   "metadata": {},
   "outputs": [],
   "source": [
    "from sklearn.model_selection import train_test_split"
   ]
  },
  {
   "cell_type": "code",
   "execution_count": 60,
   "metadata": {},
   "outputs": [],
   "source": [
    "c_train1,c_train2=train_test_split(c_train,test_size=0.2,random_state=2)"
   ]
  },
  {
   "cell_type": "code",
   "execution_count": 61,
   "metadata": {},
   "outputs": [],
   "source": [
    "# Notice that only train data is used for imputing missing values in both train and test \n",
    "\n",
    "x_train1=c_train1.drop('churn_risk_score',axis=1)\n",
    "y_train1=c_train1['churn_risk_score']\n",
    "\n",
    "x_test1 = c_train2.drop('churn_risk_score',axis=1)\n",
    "x_test2 = c_train2['churn_risk_score']\n",
    "\n",
    "\n"
   ]
  },
  {
   "cell_type": "code",
   "execution_count": 62,
   "metadata": {},
   "outputs": [],
   "source": [
    "import pandas as pd\n",
    "import numpy as np\n",
    "from sklearn.model_selection import RandomizedSearchCV,train_test_split,GridSearchCV\n",
    "from sklearn.tree import DecisionTreeClassifier\n",
    "from sklearn.ensemble import AdaBoostClassifier\n",
    "from xgboost.sklearn import XGBClassifier"
   ]
  },
  {
   "cell_type": "code",
   "execution_count": 63,
   "metadata": {},
   "outputs": [],
   "source": [
    "# param_dist = {\n",
    "#               \"max_depth\": [2,3,4,5,6],\n",
    "#               \"learning_rate\":[0.01,0.05,0.1,0.3,0.5],\n",
    "#     \"min_child_weight\":[4,5,6],\n",
    "#               \"subsample\":[i/10.0 for i in range(6,10)],\n",
    "#  \"colsample_bytree\":[i/10.0 for i in range(6,10)],\n",
    "#                \"reg_alpha\":[1e-5, 1e-2, 0.1, 1, 100],\n",
    "#               \"gamma\":[i/10.0 for i in range(0,5)],\n",
    "#     \"n_estimators\":[100,500,700,1000],\n",
    "#     'scale_pos_weight':[2,3,4,5,6,7,8,9]\n",
    "    \n",
    "#               }\n"
   ]
  },
  {
   "cell_type": "code",
   "execution_count": 64,
   "metadata": {},
   "outputs": [
    {
     "data": {
      "text/plain": [
       "XGBClassifier(base_score=0.5, booster=None, colsample_bylevel=1,\n",
       "              colsample_bynode=1, colsample_bytree=0.75, eval_metric='auc',\n",
       "              gamma=0, gpu_id=-1, importance_type='gain',\n",
       "              interaction_constraints=None, learning_rate=0.300000012,\n",
       "              max_delta_step=0, max_depth=10, min_child_weight=3, missing=nan,\n",
       "              monotone_constraints=None, n_estimators=220, n_jobs=0,\n",
       "              num_parallel_tree=1, objective='multi:softprob', random_state=10,\n",
       "              reg_alpha=0, reg_lambda=1, scale_pos_weight=None, subsample=0.9,\n",
       "              tree_method=None, validate_parameters=False, verbosity=None)"
      ]
     },
     "execution_count": 64,
     "metadata": {},
     "output_type": "execute_result"
    }
   ],
   "source": [
    "from xgboost import XGBClassifier, plot_importance\n",
    "clf  = XGBClassifier(max_depth = 10,random_state = 10, n_estimators=220, eval_metric = 'auc', min_child_weight = 3,\n",
    "                    colsample_bytree = 0.75, subsample= 0.9)\n",
    "\n",
    "\n",
    "clf.fit(x_train1, y_train1)"
   ]
  },
  {
   "cell_type": "code",
   "execution_count": 65,
   "metadata": {},
   "outputs": [],
   "source": [
    "# c_train2=c_train2.drop('churn_risk_score',axis=1)"
   ]
  },
  {
   "cell_type": "code",
   "execution_count": 66,
   "metadata": {},
   "outputs": [
    {
     "data": {
      "text/plain": [
       "((29593, 43), (29593,), (7399, 43), (7399,))"
      ]
     },
     "execution_count": 66,
     "metadata": {},
     "output_type": "execute_result"
    }
   ],
   "source": [
    "x_train1.shape, y_train1.shape, x_test1.shape, x_test2.shape"
   ]
  },
  {
   "cell_type": "code",
   "execution_count": 67,
   "metadata": {},
   "outputs": [],
   "source": [
    "predicted_xg=clf.predict(x_test1)"
   ]
  },
  {
   "cell_type": "code",
   "execution_count": 68,
   "metadata": {},
   "outputs": [
    {
     "data": {
      "text/plain": [
       "array([5., 3., 5., ..., 3., 5., 4.])"
      ]
     },
     "execution_count": 68,
     "metadata": {},
     "output_type": "execute_result"
    }
   ],
   "source": [
    "predicted_xg"
   ]
  },
  {
   "cell_type": "code",
   "execution_count": 69,
   "metadata": {},
   "outputs": [],
   "source": [
    "from sklearn.metrics import f1_score\n"
   ]
  },
  {
   "cell_type": "code",
   "execution_count": 70,
   "metadata": {},
   "outputs": [
    {
     "data": {
      "text/plain": [
       "((7399,), (29593,))"
      ]
     },
     "execution_count": 70,
     "metadata": {},
     "output_type": "execute_result"
    }
   ],
   "source": [
    "predicted_xg.shape, y_train1.shape"
   ]
  },
  {
   "cell_type": "code",
   "execution_count": 71,
   "metadata": {},
   "outputs": [
    {
     "data": {
      "text/plain": [
       "0.6245714808862098"
      ]
     },
     "execution_count": 71,
     "metadata": {},
     "output_type": "execute_result"
    }
   ],
   "source": [
    "f1_score(x_test2,predicted_xg,average='macro')"
   ]
  },
  {
   "cell_type": "code",
   "execution_count": 72,
   "metadata": {},
   "outputs": [],
   "source": [
    "x_train=c_train.drop('churn_risk_score',axis=1)\n",
    "y_train=c_train['churn_risk_score']"
   ]
  },
  {
   "cell_type": "code",
   "execution_count": 73,
   "metadata": {},
   "outputs": [
    {
     "data": {
      "text/plain": [
       "XGBClassifier(base_score=0.5, booster=None, colsample_bylevel=1,\n",
       "              colsample_bynode=1, colsample_bytree=0.75, eval_metric='auc',\n",
       "              gamma=0, gpu_id=-1, importance_type='gain',\n",
       "              interaction_constraints=None, learning_rate=0.300000012,\n",
       "              max_delta_step=0, max_depth=10, min_child_weight=3, missing=nan,\n",
       "              monotone_constraints=None, n_estimators=220, n_jobs=0,\n",
       "              num_parallel_tree=1, objective='multi:softprob', random_state=10,\n",
       "              reg_alpha=0, reg_lambda=1, scale_pos_weight=None, subsample=0.9,\n",
       "              tree_method=None, validate_parameters=False, verbosity=None)"
      ]
     },
     "execution_count": 73,
     "metadata": {},
     "output_type": "execute_result"
    }
   ],
   "source": [
    "clf.fit(x_train, y_train)"
   ]
  },
  {
   "cell_type": "code",
   "execution_count": 74,
   "metadata": {},
   "outputs": [],
   "source": [
    "test_pred=clf.predict(c_test)"
   ]
  },
  {
   "cell_type": "code",
   "execution_count": 76,
   "metadata": {},
   "outputs": [
    {
     "data": {
      "text/plain": [
       "array([3., 3., 4., ..., 5., 4., 3.])"
      ]
     },
     "execution_count": 76,
     "metadata": {},
     "output_type": "execute_result"
    }
   ],
   "source": [
    "test_pred"
   ]
  },
  {
   "cell_type": "code",
   "execution_count": 77,
   "metadata": {},
   "outputs": [
    {
     "data": {
      "text/plain": [
       "0        fffe43004900440031003700300030003400\n",
       "1        fffe43004900440031003900370037003300\n",
       "2        fffe43004900440034003800360037003000\n",
       "3        fffe43004900440036003200370033003400\n",
       "4        fffe43004900440035003000370031003900\n",
       "                         ...                 \n",
       "19914    fffe43004900440035003600330037003800\n",
       "19915    fffe43004900440032003900370037003100\n",
       "19916    fffe43004900440036003100310036003700\n",
       "19917    fffe43004900440034003200330033003600\n",
       "19918    fffe43004900440036003200340030003100\n",
       "Name: customer_id, Length: 19919, dtype: object"
      ]
     },
     "execution_count": 77,
     "metadata": {},
     "output_type": "execute_result"
    }
   ],
   "source": [
    "customer_id"
   ]
  },
  {
   "cell_type": "code",
   "execution_count": 82,
   "metadata": {},
   "outputs": [],
   "source": [
    "submission_XGB = pd.DataFrame({\n",
    "    'customer_id':customer_id,\n",
    "    'churn_risk_score':test_pred\n",
    "})"
   ]
  },
  {
   "cell_type": "code",
   "execution_count": 83,
   "metadata": {},
   "outputs": [
    {
     "data": {
      "text/html": [
       "<div>\n",
       "<style scoped>\n",
       "    .dataframe tbody tr th:only-of-type {\n",
       "        vertical-align: middle;\n",
       "    }\n",
       "\n",
       "    .dataframe tbody tr th {\n",
       "        vertical-align: top;\n",
       "    }\n",
       "\n",
       "    .dataframe thead th {\n",
       "        text-align: right;\n",
       "    }\n",
       "</style>\n",
       "<table border=\"1\" class=\"dataframe\">\n",
       "  <thead>\n",
       "    <tr style=\"text-align: right;\">\n",
       "      <th></th>\n",
       "      <th>customer_id</th>\n",
       "      <th>churn_risk_score</th>\n",
       "    </tr>\n",
       "  </thead>\n",
       "  <tbody>\n",
       "    <tr>\n",
       "      <td>0</td>\n",
       "      <td>fffe4300490044003600300030003800</td>\n",
       "      <td>2</td>\n",
       "    </tr>\n",
       "    <tr>\n",
       "      <td>1</td>\n",
       "      <td>fffe43004900440032003100300035003700</td>\n",
       "      <td>1</td>\n",
       "    </tr>\n",
       "    <tr>\n",
       "      <td>2</td>\n",
       "      <td>fffe4300490044003100390032003600</td>\n",
       "      <td>5</td>\n",
       "    </tr>\n",
       "    <tr>\n",
       "      <td>3</td>\n",
       "      <td>fffe43004900440036003000330031003600</td>\n",
       "      <td>5</td>\n",
       "    </tr>\n",
       "    <tr>\n",
       "      <td>4</td>\n",
       "      <td>fffe43004900440031003900350030003600</td>\n",
       "      <td>5</td>\n",
       "    </tr>\n",
       "  </tbody>\n",
       "</table>\n",
       "</div>"
      ],
      "text/plain": [
       "                            customer_id  churn_risk_score\n",
       "0      fffe4300490044003600300030003800                 2\n",
       "1  fffe43004900440032003100300035003700                 1\n",
       "2      fffe4300490044003100390032003600                 5\n",
       "3  fffe43004900440036003000330031003600                 5\n",
       "4  fffe43004900440031003900350030003600                 5"
      ]
     },
     "execution_count": 83,
     "metadata": {},
     "output_type": "execute_result"
    }
   ],
   "source": [
    "submission"
   ]
  },
  {
   "cell_type": "code",
   "execution_count": 86,
   "metadata": {},
   "outputs": [
    {
     "data": {
      "text/html": [
       "<div>\n",
       "<style scoped>\n",
       "    .dataframe tbody tr th:only-of-type {\n",
       "        vertical-align: middle;\n",
       "    }\n",
       "\n",
       "    .dataframe tbody tr th {\n",
       "        vertical-align: top;\n",
       "    }\n",
       "\n",
       "    .dataframe thead th {\n",
       "        text-align: right;\n",
       "    }\n",
       "</style>\n",
       "<table border=\"1\" class=\"dataframe\">\n",
       "  <thead>\n",
       "    <tr style=\"text-align: right;\">\n",
       "      <th></th>\n",
       "      <th>customer_id</th>\n",
       "      <th>churn_risk_score</th>\n",
       "    </tr>\n",
       "  </thead>\n",
       "  <tbody>\n",
       "    <tr>\n",
       "      <td>0</td>\n",
       "      <td>fffe43004900440031003700300030003400</td>\n",
       "      <td>3.0</td>\n",
       "    </tr>\n",
       "    <tr>\n",
       "      <td>1</td>\n",
       "      <td>fffe43004900440031003900370037003300</td>\n",
       "      <td>3.0</td>\n",
       "    </tr>\n",
       "    <tr>\n",
       "      <td>2</td>\n",
       "      <td>fffe43004900440034003800360037003000</td>\n",
       "      <td>4.0</td>\n",
       "    </tr>\n",
       "    <tr>\n",
       "      <td>3</td>\n",
       "      <td>fffe43004900440036003200370033003400</td>\n",
       "      <td>3.0</td>\n",
       "    </tr>\n",
       "    <tr>\n",
       "      <td>4</td>\n",
       "      <td>fffe43004900440035003000370031003900</td>\n",
       "      <td>5.0</td>\n",
       "    </tr>\n",
       "  </tbody>\n",
       "</table>\n",
       "</div>"
      ],
      "text/plain": [
       "                            customer_id  churn_risk_score\n",
       "0  fffe43004900440031003700300030003400               3.0\n",
       "1  fffe43004900440031003900370037003300               3.0\n",
       "2  fffe43004900440034003800360037003000               4.0\n",
       "3  fffe43004900440036003200370033003400               3.0\n",
       "4  fffe43004900440035003000370031003900               5.0"
      ]
     },
     "execution_count": 86,
     "metadata": {},
     "output_type": "execute_result"
    }
   ],
   "source": [
    "submission_XGB.head()"
   ]
  },
  {
   "cell_type": "code",
   "execution_count": 85,
   "metadata": {},
   "outputs": [],
   "source": [
    "submission_XGB.to_csv('XGB1.csv',index=False)\n"
   ]
  },
  {
   "cell_type": "code",
   "execution_count": null,
   "metadata": {},
   "outputs": [],
   "source": []
  }
 ],
 "metadata": {
  "kernelspec": {
   "display_name": "Python 3",
   "language": "python",
   "name": "python3"
  },
  "language_info": {
   "codemirror_mode": {
    "name": "ipython",
    "version": 3
   },
   "file_extension": ".py",
   "mimetype": "text/x-python",
   "name": "python",
   "nbconvert_exporter": "python",
   "pygments_lexer": "ipython3",
   "version": "3.7.4"
  }
 },
 "nbformat": 4,
 "nbformat_minor": 2
}
